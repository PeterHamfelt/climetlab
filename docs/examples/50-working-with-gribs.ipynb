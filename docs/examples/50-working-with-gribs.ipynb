{
 "cells": [
  {
   "cell_type": "code",
   "execution_count": 1,
   "metadata": {},
   "outputs": [
    {
     "name": "stdout",
     "output_type": "stream",
     "text": [
      "\n",
      "\u001b[1m[\u001b[0m\u001b[34;49mnotice\u001b[0m\u001b[1;39;49m]\u001b[0m\u001b[39;49m A new release of pip available: \u001b[0m\u001b[31;49m22.3\u001b[0m\u001b[39;49m -> \u001b[0m\u001b[32;49m22.3.1\u001b[0m\n",
      "\u001b[1m[\u001b[0m\u001b[34;49mnotice\u001b[0m\u001b[1;39;49m]\u001b[0m\u001b[39;49m To update, run: \u001b[0m\u001b[32;49mpip install --upgrade pip\u001b[0m\n"
     ]
    }
   ],
   "source": [
    "!pip install --quiet climetlab"
   ]
  },
  {
   "cell_type": "markdown",
   "metadata": {},
   "source": [
    "# Creating a shared dataset of GRIBs"
   ]
  },
  {
   "cell_type": "code",
   "execution_count": 2,
   "metadata": {},
   "outputs": [],
   "source": [
    "import climetlab as cml"
   ]
  },
  {
   "cell_type": "markdown",
   "metadata": {},
   "source": [
    "## Download data to the climetlab cache"
   ]
  },
  {
   "cell_type": "code",
   "execution_count": null,
   "metadata": {
    "tags": []
   },
   "outputs": [],
   "source": [
    "for month in range(1, 13):  # This takes a few minutes.\n",
    "    cml.load_source(\n",
    "        \"mars\",\n",
    "        param=[\"2t\"],\n",
    "        levtype=\"sfc\",\n",
    "        area=[50, -50, 20, 50],\n",
    "        grid=[1, 1],\n",
    "        date=f\"2012-{month}\",\n",
    "    )"
   ]
  },
  {
   "cell_type": "code",
   "execution_count": null,
   "metadata": {},
   "outputs": [],
   "source": [
    "cml.load_source(\n",
    "    \"mars\",\n",
    "    param=\"msl\",\n",
    "    levtype=\"sfc\",\n",
    "    area=[50, -50, 20, 50],\n",
    "    grid=[1, 1],\n",
    "    date=\"2012-12-01\",\n",
    ");"
   ]
  },
  {
   "cell_type": "markdown",
   "metadata": {},
   "source": [
    "## Export the data to a shared directory\n",
    "\n",
    "This is optional, you could keep working on the data from the cache if you are the only user of the data and you do not mind redownloading it later.\n",
    "Other people should not use your cache:\n",
    "- When using climetlab the cache will eventually fills up and the data may be deleted automatically,\n",
    "- You will need to deal with permissions issues.\n",
    "- It will make it difficult to share the data with other people.\n",
    "\n",
    "Let us export the data to a shared directory `shared-data/temperature-for-analysis`"
   ]
  },
  {
   "cell_type": "code",
   "execution_count": 5,
   "metadata": {},
   "outputs": [],
   "source": [
    "# Some housekeeping\n",
    "!rm -rf shared-data/temperature-for-analysis\n",
    "!mkdir -p shared-data/temperature-for-analysis"
   ]
  },
  {
   "cell_type": "code",
   "execution_count": 6,
   "metadata": {},
   "outputs": [
    {
     "name": "stdout",
     "output_type": "stream",
     "text": [
      "\u001b[32mCopying cache entries matching 'mars' and newer than '2022-12-06 13:14:36' to shared-data/temperature-for-analysis.\u001b[0m\n",
      "100%|██████████████████████████████████████████| 13/13 [00:00<00:00, 145.45it/s]\n",
      "\u001b[32mCopied 13 cache entries to shared-data/temperature-for-analysis.\u001b[0m\n"
     ]
    }
   ],
   "source": [
    "# export all data from my cache which is from mars and not older that 1 day\n",
    "!climetlab export_cache shared-data/temperature-for-analysis --newer 1h --match mars"
   ]
  },
  {
   "cell_type": "markdown",
   "metadata": {},
   "source": [
    "## Create indexes to speed up data access when using it. (Optional)"
   ]
  },
  {
   "cell_type": "code",
   "execution_count": null,
   "metadata": {},
   "outputs": [],
   "source": [
    "!climetlab index_directory shared-data/temperature-for-analysis"
   ]
  },
  {
   "cell_type": "code",
   "execution_count": 8,
   "metadata": {},
   "outputs": [
    {
     "name": "stdout",
     "output_type": "stream",
     "text": [
      "                                                                                \r"
     ]
    }
   ],
   "source": [
    "!climetlab availability shared-data/temperature-for-analysis"
   ]
  },
  {
   "cell_type": "markdown",
   "metadata": {},
   "source": [
    "## Using the data\n"
   ]
  },
  {
   "cell_type": "code",
   "execution_count": 9,
   "metadata": {},
   "outputs": [],
   "source": [
    "DATA = \"shared-data/temperature-for-analysis\""
   ]
  },
  {
   "cell_type": "code",
   "execution_count": 10,
   "metadata": {},
   "outputs": [],
   "source": [
    "source = cml.load_source(\"indexed-directory\", DATA)"
   ]
  },
  {
   "cell_type": "code",
   "execution_count": 11,
   "metadata": {},
   "outputs": [
    {
     "data": {
      "text/html": [
       "<hr><pre>class=od, domain=g, expver=0001, levtype=sfc, md5_grid_section=ce1bd075c48ae7a5bf34f4e47166e942, step=0, stream=oper, time=1200, type=an\n",
       "   date=[20120101, 20120102, 20120103, 20120104, 20120105, 20120106, 20120107, 20120108, 20120109, 20120110, 20120111, 20120112, 20120113, 20120114, 20120115, 20120116, 20120117, 20120118, 20120119, 20120120, 20120121, 20120122, 20120123, 20120124, 20120125, 20120126, 20120127, 20120128, 20120129, 20120130, 20120131, 20120201, 20120202, 20120203, 20120204, 20120205, 20120206, 20120207, 20120208, 20120209, 20120210, 20120211, 20120212, 20120213, 20120214, 20120215, 20120216, 20120217, 20120218, 20120219, 20120220, 20120221, 20120222, 20120223, 20120224, 20120225, 20120226, 20120227, 20120228, 20120229, 20120301, 20120302, 20120303, 20120304, 20120305, 20120306, 20120307, 20120308, 20120309, 20120310, 20120311, 20120312, 20120313, 20120314, 20120315, 20120316, 20120317, 20120318, 20120319, 20120320, 20120321, 20120322, 20120323, 20120324, 20120325, 20120326, 20120327, 20120328, 20120329, 20120330, 20120331, 20120401, 20120402, 20120403, 20120404, 20120405, 20120406, 20120407, 20120408, 20120409, 20120410, 20120411, 20120412, 20120413, 20120414, 20120415, 20120416, 20120417, 20120418, 20120419, 20120420, 20120421, 20120422, 20120423, 20120424, 20120425, 20120426, 20120427, 20120428, 20120429, 20120430, 20120501, 20120502, 20120503, 20120504, 20120505, 20120506, 20120507, 20120508, 20120509, 20120510, 20120511, 20120512, 20120513, 20120514, 20120515, 20120516, 20120517, 20120518, 20120519, 20120520, 20120521, 20120522, 20120523, 20120524, 20120525, 20120526, 20120527, 20120528, 20120529, 20120530, 20120531, 20120601, 20120602, 20120603, 20120604, 20120605, 20120606, 20120607, 20120608, 20120609, 20120610, 20120611, 20120612, 20120613, 20120614, 20120615, 20120616, 20120617, 20120618, 20120619, 20120620, 20120621, 20120622, 20120623, 20120624, 20120625, 20120626, 20120627, 20120628, 20120629, 20120630, 20120701, 20120702, 20120703, 20120704, 20120705, 20120706, 20120707, 20120708, 20120709, 20120710, 20120711, 20120712, 20120713, 20120714, 20120715, 20120716, 20120717, 20120718, 20120719, 20120720, 20120721, 20120722, 20120723, 20120724, 20120725, 20120726, 20120727, 20120728, 20120729, 20120730, 20120731, 20120801, 20120802, 20120803, 20120804, 20120805, 20120806, 20120807, 20120808, 20120809, 20120810, 20120811, 20120812, 20120813, 20120814, 20120815, 20120816, 20120817, 20120818, 20120819, 20120820, 20120821, 20120822, 20120823, 20120824, 20120825, 20120826, 20120827, 20120828, 20120829, 20120830, 20120831, 20120901, 20120902, 20120903, 20120904, 20120905, 20120906, 20120907, 20120908, 20120909, 20120910, 20120911, 20120912, 20120913, 20120914, 20120915, 20120916, 20120917, 20120918, 20120919, 20120920, 20120921, 20120922, 20120923, 20120924, 20120925, 20120926, 20120927, 20120928, 20120929, 20120930, 20121001, 20121002, 20121003, 20121004, 20121005, 20121006, 20121007, 20121008, 20121009, 20121010, 20121011, 20121012, 20121013, 20121014, 20121015, 20121016, 20121017, 20121018, 20121019, 20121020, 20121021, 20121022, 20121023, 20121024, 20121025, 20121026, 20121027, 20121028, 20121029, 20121030, 20121031, 20121101, 20121102, 20121103, 20121104, 20121105, 20121106, 20121107, 20121108, 20121109, 20121110, 20121111, 20121112, 20121113, 20121114, 20121115, 20121116, 20121117, 20121118, 20121119, 20121120, 20121121, 20121122, 20121123, 20121124, 20121125, 20121126, 20121127, 20121128, 20121129, 20121130, 20121201, 20121202, 20121203, 20121204, 20121205, 20121206, 20121207, 20121208, 20121209, 20121210, 20121211, 20121212, 20121213, 20121214, 20121215, 20121216, 20121217, 20121218, 20121219, 20121220, 20121221, 20121222, 20121223, 20121224, 20121225, 20121226, 20121227, 20121228, 20121229, 20121230, 20121231], param=2t\n",
       "   date=20121201, param=msl\n",
       "</pre><hr>"
      ],
      "text/plain": [
       "<climetlab.utils.availability.Availability at 0x152175720>"
      ]
     },
     "execution_count": 11,
     "metadata": {},
     "output_type": "execute_result"
    }
   ],
   "source": [
    "source.availability"
   ]
  },
  {
   "cell_type": "markdown",
   "metadata": {},
   "source": [
    "This is a good time to check the data, is all the data here? Are they missing dates? Parameters?\n",
    "\n",
    "The data is ready to be used as numpy, tensorflow or xarray object."
   ]
  },
  {
   "cell_type": "code",
   "execution_count": 12,
   "metadata": {},
   "outputs": [
    {
     "data": {
      "text/plain": [
       "101725.47522756307"
      ]
     },
     "execution_count": 12,
     "metadata": {},
     "output_type": "execute_result"
    }
   ],
   "source": [
    "source.sel(param=\"msl\").to_numpy().mean()"
   ]
  },
  {
   "cell_type": "code",
   "execution_count": 13,
   "metadata": {},
   "outputs": [
    {
     "data": {
      "text/plain": [
       "101725.47522756307"
      ]
     },
     "execution_count": 13,
     "metadata": {},
     "output_type": "execute_result"
    }
   ],
   "source": [
    "cml.load_source(\"indexed-directory\", DATA, param=\"msl\").to_numpy().mean()"
   ]
  },
  {
   "cell_type": "code",
   "execution_count": null,
   "metadata": {},
   "outputs": [],
   "source": [
    "temp = source.sel(param=\"2t\").order_by(\"date\")\n",
    "temp.to_tfdataset()"
   ]
  },
  {
   "cell_type": "code",
   "execution_count": 15,
   "metadata": {},
   "outputs": [
    {
     "data": {
      "text/html": [
       "<div><svg style=\"position: absolute; width: 0; height: 0; overflow: hidden\">\n",
       "<defs>\n",
       "<symbol id=\"icon-database\" viewBox=\"0 0 32 32\">\n",
       "<path d=\"M16 0c-8.837 0-16 2.239-16 5v4c0 2.761 7.163 5 16 5s16-2.239 16-5v-4c0-2.761-7.163-5-16-5z\"></path>\n",
       "<path d=\"M16 17c-8.837 0-16-2.239-16-5v6c0 2.761 7.163 5 16 5s16-2.239 16-5v-6c0 2.761-7.163 5-16 5z\"></path>\n",
       "<path d=\"M16 26c-8.837 0-16-2.239-16-5v6c0 2.761 7.163 5 16 5s16-2.239 16-5v-6c0 2.761-7.163 5-16 5z\"></path>\n",
       "</symbol>\n",
       "<symbol id=\"icon-file-text2\" viewBox=\"0 0 32 32\">\n",
       "<path d=\"M28.681 7.159c-0.694-0.947-1.662-2.053-2.724-3.116s-2.169-2.030-3.116-2.724c-1.612-1.182-2.393-1.319-2.841-1.319h-15.5c-1.378 0-2.5 1.121-2.5 2.5v27c0 1.378 1.122 2.5 2.5 2.5h23c1.378 0 2.5-1.122 2.5-2.5v-19.5c0-0.448-0.137-1.23-1.319-2.841zM24.543 5.457c0.959 0.959 1.712 1.825 2.268 2.543h-4.811v-4.811c0.718 0.556 1.584 1.309 2.543 2.268zM28 29.5c0 0.271-0.229 0.5-0.5 0.5h-23c-0.271 0-0.5-0.229-0.5-0.5v-27c0-0.271 0.229-0.5 0.5-0.5 0 0 15.499-0 15.5 0v7c0 0.552 0.448 1 1 1h7v19.5z\"></path>\n",
       "<path d=\"M23 26h-14c-0.552 0-1-0.448-1-1s0.448-1 1-1h14c0.552 0 1 0.448 1 1s-0.448 1-1 1z\"></path>\n",
       "<path d=\"M23 22h-14c-0.552 0-1-0.448-1-1s0.448-1 1-1h14c0.552 0 1 0.448 1 1s-0.448 1-1 1z\"></path>\n",
       "<path d=\"M23 18h-14c-0.552 0-1-0.448-1-1s0.448-1 1-1h14c0.552 0 1 0.448 1 1s-0.448 1-1 1z\"></path>\n",
       "</symbol>\n",
       "</defs>\n",
       "</svg>\n",
       "<style>/* CSS stylesheet for displaying xarray objects in jupyterlab.\n",
       " *\n",
       " */\n",
       "\n",
       ":root {\n",
       "  --xr-font-color0: var(--jp-content-font-color0, rgba(0, 0, 0, 1));\n",
       "  --xr-font-color2: var(--jp-content-font-color2, rgba(0, 0, 0, 0.54));\n",
       "  --xr-font-color3: var(--jp-content-font-color3, rgba(0, 0, 0, 0.38));\n",
       "  --xr-border-color: var(--jp-border-color2, #e0e0e0);\n",
       "  --xr-disabled-color: var(--jp-layout-color3, #bdbdbd);\n",
       "  --xr-background-color: var(--jp-layout-color0, white);\n",
       "  --xr-background-color-row-even: var(--jp-layout-color1, white);\n",
       "  --xr-background-color-row-odd: var(--jp-layout-color2, #eeeeee);\n",
       "}\n",
       "\n",
       "html[theme=dark],\n",
       "body[data-theme=dark],\n",
       "body.vscode-dark {\n",
       "  --xr-font-color0: rgba(255, 255, 255, 1);\n",
       "  --xr-font-color2: rgba(255, 255, 255, 0.54);\n",
       "  --xr-font-color3: rgba(255, 255, 255, 0.38);\n",
       "  --xr-border-color: #1F1F1F;\n",
       "  --xr-disabled-color: #515151;\n",
       "  --xr-background-color: #111111;\n",
       "  --xr-background-color-row-even: #111111;\n",
       "  --xr-background-color-row-odd: #313131;\n",
       "}\n",
       "\n",
       ".xr-wrap {\n",
       "  display: block !important;\n",
       "  min-width: 300px;\n",
       "  max-width: 700px;\n",
       "}\n",
       "\n",
       ".xr-text-repr-fallback {\n",
       "  /* fallback to plain text repr when CSS is not injected (untrusted notebook) */\n",
       "  display: none;\n",
       "}\n",
       "\n",
       ".xr-header {\n",
       "  padding-top: 6px;\n",
       "  padding-bottom: 6px;\n",
       "  margin-bottom: 4px;\n",
       "  border-bottom: solid 1px var(--xr-border-color);\n",
       "}\n",
       "\n",
       ".xr-header > div,\n",
       ".xr-header > ul {\n",
       "  display: inline;\n",
       "  margin-top: 0;\n",
       "  margin-bottom: 0;\n",
       "}\n",
       "\n",
       ".xr-obj-type,\n",
       ".xr-array-name {\n",
       "  margin-left: 2px;\n",
       "  margin-right: 10px;\n",
       "}\n",
       "\n",
       ".xr-obj-type {\n",
       "  color: var(--xr-font-color2);\n",
       "}\n",
       "\n",
       ".xr-sections {\n",
       "  padding-left: 0 !important;\n",
       "  display: grid;\n",
       "  grid-template-columns: 150px auto auto 1fr 20px 20px;\n",
       "}\n",
       "\n",
       ".xr-section-item {\n",
       "  display: contents;\n",
       "}\n",
       "\n",
       ".xr-section-item input {\n",
       "  display: none;\n",
       "}\n",
       "\n",
       ".xr-section-item input + label {\n",
       "  color: var(--xr-disabled-color);\n",
       "}\n",
       "\n",
       ".xr-section-item input:enabled + label {\n",
       "  cursor: pointer;\n",
       "  color: var(--xr-font-color2);\n",
       "}\n",
       "\n",
       ".xr-section-item input:enabled + label:hover {\n",
       "  color: var(--xr-font-color0);\n",
       "}\n",
       "\n",
       ".xr-section-summary {\n",
       "  grid-column: 1;\n",
       "  color: var(--xr-font-color2);\n",
       "  font-weight: 500;\n",
       "}\n",
       "\n",
       ".xr-section-summary > span {\n",
       "  display: inline-block;\n",
       "  padding-left: 0.5em;\n",
       "}\n",
       "\n",
       ".xr-section-summary-in:disabled + label {\n",
       "  color: var(--xr-font-color2);\n",
       "}\n",
       "\n",
       ".xr-section-summary-in + label:before {\n",
       "  display: inline-block;\n",
       "  content: '►';\n",
       "  font-size: 11px;\n",
       "  width: 15px;\n",
       "  text-align: center;\n",
       "}\n",
       "\n",
       ".xr-section-summary-in:disabled + label:before {\n",
       "  color: var(--xr-disabled-color);\n",
       "}\n",
       "\n",
       ".xr-section-summary-in:checked + label:before {\n",
       "  content: '▼';\n",
       "}\n",
       "\n",
       ".xr-section-summary-in:checked + label > span {\n",
       "  display: none;\n",
       "}\n",
       "\n",
       ".xr-section-summary,\n",
       ".xr-section-inline-details {\n",
       "  padding-top: 4px;\n",
       "  padding-bottom: 4px;\n",
       "}\n",
       "\n",
       ".xr-section-inline-details {\n",
       "  grid-column: 2 / -1;\n",
       "}\n",
       "\n",
       ".xr-section-details {\n",
       "  display: none;\n",
       "  grid-column: 1 / -1;\n",
       "  margin-bottom: 5px;\n",
       "}\n",
       "\n",
       ".xr-section-summary-in:checked ~ .xr-section-details {\n",
       "  display: contents;\n",
       "}\n",
       "\n",
       ".xr-array-wrap {\n",
       "  grid-column: 1 / -1;\n",
       "  display: grid;\n",
       "  grid-template-columns: 20px auto;\n",
       "}\n",
       "\n",
       ".xr-array-wrap > label {\n",
       "  grid-column: 1;\n",
       "  vertical-align: top;\n",
       "}\n",
       "\n",
       ".xr-preview {\n",
       "  color: var(--xr-font-color3);\n",
       "}\n",
       "\n",
       ".xr-array-preview,\n",
       ".xr-array-data {\n",
       "  padding: 0 5px !important;\n",
       "  grid-column: 2;\n",
       "}\n",
       "\n",
       ".xr-array-data,\n",
       ".xr-array-in:checked ~ .xr-array-preview {\n",
       "  display: none;\n",
       "}\n",
       "\n",
       ".xr-array-in:checked ~ .xr-array-data,\n",
       ".xr-array-preview {\n",
       "  display: inline-block;\n",
       "}\n",
       "\n",
       ".xr-dim-list {\n",
       "  display: inline-block !important;\n",
       "  list-style: none;\n",
       "  padding: 0 !important;\n",
       "  margin: 0;\n",
       "}\n",
       "\n",
       ".xr-dim-list li {\n",
       "  display: inline-block;\n",
       "  padding: 0;\n",
       "  margin: 0;\n",
       "}\n",
       "\n",
       ".xr-dim-list:before {\n",
       "  content: '(';\n",
       "}\n",
       "\n",
       ".xr-dim-list:after {\n",
       "  content: ')';\n",
       "}\n",
       "\n",
       ".xr-dim-list li:not(:last-child):after {\n",
       "  content: ',';\n",
       "  padding-right: 5px;\n",
       "}\n",
       "\n",
       ".xr-has-index {\n",
       "  font-weight: bold;\n",
       "}\n",
       "\n",
       ".xr-var-list,\n",
       ".xr-var-item {\n",
       "  display: contents;\n",
       "}\n",
       "\n",
       ".xr-var-item > div,\n",
       ".xr-var-item label,\n",
       ".xr-var-item > .xr-var-name span {\n",
       "  background-color: var(--xr-background-color-row-even);\n",
       "  margin-bottom: 0;\n",
       "}\n",
       "\n",
       ".xr-var-item > .xr-var-name:hover span {\n",
       "  padding-right: 5px;\n",
       "}\n",
       "\n",
       ".xr-var-list > li:nth-child(odd) > div,\n",
       ".xr-var-list > li:nth-child(odd) > label,\n",
       ".xr-var-list > li:nth-child(odd) > .xr-var-name span {\n",
       "  background-color: var(--xr-background-color-row-odd);\n",
       "}\n",
       "\n",
       ".xr-var-name {\n",
       "  grid-column: 1;\n",
       "}\n",
       "\n",
       ".xr-var-dims {\n",
       "  grid-column: 2;\n",
       "}\n",
       "\n",
       ".xr-var-dtype {\n",
       "  grid-column: 3;\n",
       "  text-align: right;\n",
       "  color: var(--xr-font-color2);\n",
       "}\n",
       "\n",
       ".xr-var-preview {\n",
       "  grid-column: 4;\n",
       "}\n",
       "\n",
       ".xr-var-name,\n",
       ".xr-var-dims,\n",
       ".xr-var-dtype,\n",
       ".xr-preview,\n",
       ".xr-attrs dt {\n",
       "  white-space: nowrap;\n",
       "  overflow: hidden;\n",
       "  text-overflow: ellipsis;\n",
       "  padding-right: 10px;\n",
       "}\n",
       "\n",
       ".xr-var-name:hover,\n",
       ".xr-var-dims:hover,\n",
       ".xr-var-dtype:hover,\n",
       ".xr-attrs dt:hover {\n",
       "  overflow: visible;\n",
       "  width: auto;\n",
       "  z-index: 1;\n",
       "}\n",
       "\n",
       ".xr-var-attrs,\n",
       ".xr-var-data {\n",
       "  display: none;\n",
       "  background-color: var(--xr-background-color) !important;\n",
       "  padding-bottom: 5px !important;\n",
       "}\n",
       "\n",
       ".xr-var-attrs-in:checked ~ .xr-var-attrs,\n",
       ".xr-var-data-in:checked ~ .xr-var-data {\n",
       "  display: block;\n",
       "}\n",
       "\n",
       ".xr-var-data > table {\n",
       "  float: right;\n",
       "}\n",
       "\n",
       ".xr-var-name span,\n",
       ".xr-var-data,\n",
       ".xr-attrs {\n",
       "  padding-left: 25px !important;\n",
       "}\n",
       "\n",
       ".xr-attrs,\n",
       ".xr-var-attrs,\n",
       ".xr-var-data {\n",
       "  grid-column: 1 / -1;\n",
       "}\n",
       "\n",
       "dl.xr-attrs {\n",
       "  padding: 0;\n",
       "  margin: 0;\n",
       "  display: grid;\n",
       "  grid-template-columns: 125px auto;\n",
       "}\n",
       "\n",
       ".xr-attrs dt,\n",
       ".xr-attrs dd {\n",
       "  padding: 0;\n",
       "  margin: 0;\n",
       "  float: left;\n",
       "  padding-right: 10px;\n",
       "  width: auto;\n",
       "}\n",
       "\n",
       ".xr-attrs dt {\n",
       "  font-weight: normal;\n",
       "  grid-column: 1;\n",
       "}\n",
       "\n",
       ".xr-attrs dt:hover span {\n",
       "  display: inline-block;\n",
       "  background: var(--xr-background-color);\n",
       "  padding-right: 10px;\n",
       "}\n",
       "\n",
       ".xr-attrs dd {\n",
       "  grid-column: 2;\n",
       "  white-space: pre-wrap;\n",
       "  word-break: break-all;\n",
       "}\n",
       "\n",
       ".xr-icon-database,\n",
       ".xr-icon-file-text2 {\n",
       "  display: inline-block;\n",
       "  vertical-align: middle;\n",
       "  width: 1em;\n",
       "  height: 1.5em !important;\n",
       "  stroke-width: 0;\n",
       "  stroke: currentColor;\n",
       "  fill: currentColor;\n",
       "}\n",
       "</style><pre class='xr-text-repr-fallback'>&lt;xarray.Dataset&gt;\n",
       "Dimensions:     (number: 1, time: 366, step: 1, surface: 1, latitude: 31,\n",
       "                 longitude: 101)\n",
       "Coordinates:\n",
       "  * number      (number) int64 0\n",
       "  * time        (time) datetime64[ns] 2012-01-01T12:00:00 ... 2012-12-31T12:0...\n",
       "  * step        (step) timedelta64[ns] 00:00:00\n",
       "  * surface     (surface) float64 0.0\n",
       "  * latitude    (latitude) float64 50.0 49.0 48.0 47.0 ... 23.0 22.0 21.0 20.0\n",
       "  * longitude   (longitude) float64 -50.0 -49.0 -48.0 -47.0 ... 48.0 49.0 50.0\n",
       "    valid_time  (time, step) datetime64[ns] 2012-01-01T12:00:00 ... 2012-12-3...\n",
       "Data variables:\n",
       "    t2m         (number, time, step, surface, latitude, longitude) float32 ...\n",
       "Attributes:\n",
       "    GRIB_edition:            1\n",
       "    GRIB_centre:             ecmf\n",
       "    GRIB_centreDescription:  European Centre for Medium-Range Weather Forecasts\n",
       "    GRIB_subCentre:          0\n",
       "    Conventions:             CF-1.7\n",
       "    institution:             European Centre for Medium-Range Weather Forecasts\n",
       "    history:                 2022-12-06T14:14 GRIB to CDM+CF via cfgrib-0.9.1...</pre><div class='xr-wrap' style='display:none'><div class='xr-header'><div class='xr-obj-type'>xarray.Dataset</div></div><ul class='xr-sections'><li class='xr-section-item'><input id='section-51b0d28a-b9c9-4473-b80d-8fe9d75367bc' class='xr-section-summary-in' type='checkbox' disabled ><label for='section-51b0d28a-b9c9-4473-b80d-8fe9d75367bc' class='xr-section-summary'  title='Expand/collapse section'>Dimensions:</label><div class='xr-section-inline-details'><ul class='xr-dim-list'><li><span class='xr-has-index'>number</span>: 1</li><li><span class='xr-has-index'>time</span>: 366</li><li><span class='xr-has-index'>step</span>: 1</li><li><span class='xr-has-index'>surface</span>: 1</li><li><span class='xr-has-index'>latitude</span>: 31</li><li><span class='xr-has-index'>longitude</span>: 101</li></ul></div><div class='xr-section-details'></div></li><li class='xr-section-item'><input id='section-9bc48e8a-a29c-43ef-9629-0239f212d621' class='xr-section-summary-in' type='checkbox'  checked><label for='section-9bc48e8a-a29c-43ef-9629-0239f212d621' class='xr-section-summary' >Coordinates: <span>(7)</span></label><div class='xr-section-inline-details'></div><div class='xr-section-details'><ul class='xr-var-list'><li class='xr-var-item'><div class='xr-var-name'><span class='xr-has-index'>number</span></div><div class='xr-var-dims'>(number)</div><div class='xr-var-dtype'>int64</div><div class='xr-var-preview xr-preview'>0</div><input id='attrs-1dbb40b6-bd27-430f-993b-edfa9a3b3e45' class='xr-var-attrs-in' type='checkbox' ><label for='attrs-1dbb40b6-bd27-430f-993b-edfa9a3b3e45' title='Show/Hide attributes'><svg class='icon xr-icon-file-text2'><use xlink:href='#icon-file-text2'></use></svg></label><input id='data-160409a6-1680-459a-83ca-b9bea3f8df10' class='xr-var-data-in' type='checkbox'><label for='data-160409a6-1680-459a-83ca-b9bea3f8df10' title='Show/Hide data repr'><svg class='icon xr-icon-database'><use xlink:href='#icon-database'></use></svg></label><div class='xr-var-attrs'><dl class='xr-attrs'><dt><span>long_name :</span></dt><dd>ensemble member numerical id</dd><dt><span>units :</span></dt><dd>1</dd><dt><span>standard_name :</span></dt><dd>realization</dd></dl></div><div class='xr-var-data'><pre>array([0])</pre></div></li><li class='xr-var-item'><div class='xr-var-name'><span class='xr-has-index'>time</span></div><div class='xr-var-dims'>(time)</div><div class='xr-var-dtype'>datetime64[ns]</div><div class='xr-var-preview xr-preview'>2012-01-01T12:00:00 ... 2012-12-...</div><input id='attrs-d74ffa35-11b7-4ac0-83a6-1f23f53da421' class='xr-var-attrs-in' type='checkbox' ><label for='attrs-d74ffa35-11b7-4ac0-83a6-1f23f53da421' title='Show/Hide attributes'><svg class='icon xr-icon-file-text2'><use xlink:href='#icon-file-text2'></use></svg></label><input id='data-4a0e6659-ce06-4b71-97cc-ff4e640210b4' class='xr-var-data-in' type='checkbox'><label for='data-4a0e6659-ce06-4b71-97cc-ff4e640210b4' title='Show/Hide data repr'><svg class='icon xr-icon-database'><use xlink:href='#icon-database'></use></svg></label><div class='xr-var-attrs'><dl class='xr-attrs'><dt><span>long_name :</span></dt><dd>initial time of forecast</dd><dt><span>standard_name :</span></dt><dd>forecast_reference_time</dd></dl></div><div class='xr-var-data'><pre>array([&#x27;2012-01-01T12:00:00.000000000&#x27;, &#x27;2012-01-02T12:00:00.000000000&#x27;,\n",
       "       &#x27;2012-01-03T12:00:00.000000000&#x27;, ..., &#x27;2012-12-29T12:00:00.000000000&#x27;,\n",
       "       &#x27;2012-12-30T12:00:00.000000000&#x27;, &#x27;2012-12-31T12:00:00.000000000&#x27;],\n",
       "      dtype=&#x27;datetime64[ns]&#x27;)</pre></div></li><li class='xr-var-item'><div class='xr-var-name'><span class='xr-has-index'>step</span></div><div class='xr-var-dims'>(step)</div><div class='xr-var-dtype'>timedelta64[ns]</div><div class='xr-var-preview xr-preview'>00:00:00</div><input id='attrs-2c8afb12-9e31-4fdc-8489-b0890894845f' class='xr-var-attrs-in' type='checkbox' ><label for='attrs-2c8afb12-9e31-4fdc-8489-b0890894845f' title='Show/Hide attributes'><svg class='icon xr-icon-file-text2'><use xlink:href='#icon-file-text2'></use></svg></label><input id='data-c2a1ebff-ef48-4585-b4bd-98eb1711d26b' class='xr-var-data-in' type='checkbox'><label for='data-c2a1ebff-ef48-4585-b4bd-98eb1711d26b' title='Show/Hide data repr'><svg class='icon xr-icon-database'><use xlink:href='#icon-database'></use></svg></label><div class='xr-var-attrs'><dl class='xr-attrs'><dt><span>long_name :</span></dt><dd>time since forecast_reference_time</dd><dt><span>standard_name :</span></dt><dd>forecast_period</dd></dl></div><div class='xr-var-data'><pre>array([0], dtype=&#x27;timedelta64[ns]&#x27;)</pre></div></li><li class='xr-var-item'><div class='xr-var-name'><span class='xr-has-index'>surface</span></div><div class='xr-var-dims'>(surface)</div><div class='xr-var-dtype'>float64</div><div class='xr-var-preview xr-preview'>0.0</div><input id='attrs-f30814a5-a928-4cc6-a359-5b8ffc32b01f' class='xr-var-attrs-in' type='checkbox' ><label for='attrs-f30814a5-a928-4cc6-a359-5b8ffc32b01f' title='Show/Hide attributes'><svg class='icon xr-icon-file-text2'><use xlink:href='#icon-file-text2'></use></svg></label><input id='data-3fe0801e-eab6-4684-9cdb-e358bd51d3a9' class='xr-var-data-in' type='checkbox'><label for='data-3fe0801e-eab6-4684-9cdb-e358bd51d3a9' title='Show/Hide data repr'><svg class='icon xr-icon-database'><use xlink:href='#icon-database'></use></svg></label><div class='xr-var-attrs'><dl class='xr-attrs'><dt><span>long_name :</span></dt><dd>original GRIB coordinate for key: level(surface)</dd><dt><span>units :</span></dt><dd>1</dd></dl></div><div class='xr-var-data'><pre>array([0.])</pre></div></li><li class='xr-var-item'><div class='xr-var-name'><span class='xr-has-index'>latitude</span></div><div class='xr-var-dims'>(latitude)</div><div class='xr-var-dtype'>float64</div><div class='xr-var-preview xr-preview'>50.0 49.0 48.0 ... 22.0 21.0 20.0</div><input id='attrs-0470d489-bd5e-4e70-8613-110a446abd9b' class='xr-var-attrs-in' type='checkbox' ><label for='attrs-0470d489-bd5e-4e70-8613-110a446abd9b' title='Show/Hide attributes'><svg class='icon xr-icon-file-text2'><use xlink:href='#icon-file-text2'></use></svg></label><input id='data-64841d47-d3b0-4f47-96a7-fa8ab668f8d5' class='xr-var-data-in' type='checkbox'><label for='data-64841d47-d3b0-4f47-96a7-fa8ab668f8d5' title='Show/Hide data repr'><svg class='icon xr-icon-database'><use xlink:href='#icon-database'></use></svg></label><div class='xr-var-attrs'><dl class='xr-attrs'><dt><span>units :</span></dt><dd>degrees_north</dd><dt><span>standard_name :</span></dt><dd>latitude</dd><dt><span>long_name :</span></dt><dd>latitude</dd><dt><span>stored_direction :</span></dt><dd>decreasing</dd></dl></div><div class='xr-var-data'><pre>array([50., 49., 48., 47., 46., 45., 44., 43., 42., 41., 40., 39., 38., 37.,\n",
       "       36., 35., 34., 33., 32., 31., 30., 29., 28., 27., 26., 25., 24., 23.,\n",
       "       22., 21., 20.])</pre></div></li><li class='xr-var-item'><div class='xr-var-name'><span class='xr-has-index'>longitude</span></div><div class='xr-var-dims'>(longitude)</div><div class='xr-var-dtype'>float64</div><div class='xr-var-preview xr-preview'>-50.0 -49.0 -48.0 ... 49.0 50.0</div><input id='attrs-5b4b75a2-bf11-4ccc-b770-1b9ddecbf6d2' class='xr-var-attrs-in' type='checkbox' ><label for='attrs-5b4b75a2-bf11-4ccc-b770-1b9ddecbf6d2' title='Show/Hide attributes'><svg class='icon xr-icon-file-text2'><use xlink:href='#icon-file-text2'></use></svg></label><input id='data-5663afc4-48d4-4561-a57e-00695ee1a8bd' class='xr-var-data-in' type='checkbox'><label for='data-5663afc4-48d4-4561-a57e-00695ee1a8bd' title='Show/Hide data repr'><svg class='icon xr-icon-database'><use xlink:href='#icon-database'></use></svg></label><div class='xr-var-attrs'><dl class='xr-attrs'><dt><span>units :</span></dt><dd>degrees_east</dd><dt><span>standard_name :</span></dt><dd>longitude</dd><dt><span>long_name :</span></dt><dd>longitude</dd></dl></div><div class='xr-var-data'><pre>array([-50., -49., -48., -47., -46., -45., -44., -43., -42., -41., -40., -39.,\n",
       "       -38., -37., -36., -35., -34., -33., -32., -31., -30., -29., -28., -27.,\n",
       "       -26., -25., -24., -23., -22., -21., -20., -19., -18., -17., -16., -15.,\n",
       "       -14., -13., -12., -11., -10.,  -9.,  -8.,  -7.,  -6.,  -5.,  -4.,  -3.,\n",
       "        -2.,  -1.,   0.,   1.,   2.,   3.,   4.,   5.,   6.,   7.,   8.,   9.,\n",
       "        10.,  11.,  12.,  13.,  14.,  15.,  16.,  17.,  18.,  19.,  20.,  21.,\n",
       "        22.,  23.,  24.,  25.,  26.,  27.,  28.,  29.,  30.,  31.,  32.,  33.,\n",
       "        34.,  35.,  36.,  37.,  38.,  39.,  40.,  41.,  42.,  43.,  44.,  45.,\n",
       "        46.,  47.,  48.,  49.,  50.])</pre></div></li><li class='xr-var-item'><div class='xr-var-name'><span>valid_time</span></div><div class='xr-var-dims'>(time, step)</div><div class='xr-var-dtype'>datetime64[ns]</div><div class='xr-var-preview xr-preview'>...</div><input id='attrs-d3de3e1c-e518-4592-b1e4-49d56faebb0c' class='xr-var-attrs-in' type='checkbox' ><label for='attrs-d3de3e1c-e518-4592-b1e4-49d56faebb0c' title='Show/Hide attributes'><svg class='icon xr-icon-file-text2'><use xlink:href='#icon-file-text2'></use></svg></label><input id='data-7b30a882-f851-45c0-a792-bf602bbf83a7' class='xr-var-data-in' type='checkbox'><label for='data-7b30a882-f851-45c0-a792-bf602bbf83a7' title='Show/Hide data repr'><svg class='icon xr-icon-database'><use xlink:href='#icon-database'></use></svg></label><div class='xr-var-attrs'><dl class='xr-attrs'><dt><span>standard_name :</span></dt><dd>time</dd><dt><span>long_name :</span></dt><dd>time</dd></dl></div><div class='xr-var-data'><pre>array([[&#x27;2012-01-01T12:00:00.000000000&#x27;],\n",
       "       [&#x27;2012-01-02T12:00:00.000000000&#x27;],\n",
       "       [&#x27;2012-01-03T12:00:00.000000000&#x27;],\n",
       "       ...,\n",
       "       [&#x27;2012-12-29T12:00:00.000000000&#x27;],\n",
       "       [&#x27;2012-12-30T12:00:00.000000000&#x27;],\n",
       "       [&#x27;2012-12-31T12:00:00.000000000&#x27;]], dtype=&#x27;datetime64[ns]&#x27;)</pre></div></li></ul></div></li><li class='xr-section-item'><input id='section-2b30dc3d-0e76-494a-9ee0-66f7a7b19e7c' class='xr-section-summary-in' type='checkbox'  checked><label for='section-2b30dc3d-0e76-494a-9ee0-66f7a7b19e7c' class='xr-section-summary' >Data variables: <span>(1)</span></label><div class='xr-section-inline-details'></div><div class='xr-section-details'><ul class='xr-var-list'><li class='xr-var-item'><div class='xr-var-name'><span>t2m</span></div><div class='xr-var-dims'>(number, time, step, surface, latitude, longitude)</div><div class='xr-var-dtype'>float32</div><div class='xr-var-preview xr-preview'>...</div><input id='attrs-4f7b47e2-87d8-4907-b53e-9c5d9d54ccc9' class='xr-var-attrs-in' type='checkbox' ><label for='attrs-4f7b47e2-87d8-4907-b53e-9c5d9d54ccc9' title='Show/Hide attributes'><svg class='icon xr-icon-file-text2'><use xlink:href='#icon-file-text2'></use></svg></label><input id='data-ef1df996-38c8-416f-918e-e36b0434ee55' class='xr-var-data-in' type='checkbox'><label for='data-ef1df996-38c8-416f-918e-e36b0434ee55' title='Show/Hide data repr'><svg class='icon xr-icon-database'><use xlink:href='#icon-database'></use></svg></label><div class='xr-var-attrs'><dl class='xr-attrs'><dt><span>GRIB_paramId :</span></dt><dd>167</dd><dt><span>GRIB_dataType :</span></dt><dd>an</dd><dt><span>GRIB_numberOfPoints :</span></dt><dd>3131</dd><dt><span>GRIB_typeOfLevel :</span></dt><dd>surface</dd><dt><span>GRIB_stepUnits :</span></dt><dd>1</dd><dt><span>GRIB_stepType :</span></dt><dd>instant</dd><dt><span>GRIB_gridType :</span></dt><dd>regular_ll</dd><dt><span>GRIB_NV :</span></dt><dd>0</dd><dt><span>GRIB_Nx :</span></dt><dd>101</dd><dt><span>GRIB_Ny :</span></dt><dd>31</dd><dt><span>GRIB_cfName :</span></dt><dd>unknown</dd><dt><span>GRIB_cfVarName :</span></dt><dd>t2m</dd><dt><span>GRIB_gridDefinitionDescription :</span></dt><dd>Latitude/Longitude Grid</dd><dt><span>GRIB_iDirectionIncrementInDegrees :</span></dt><dd>1.0</dd><dt><span>GRIB_iScansNegatively :</span></dt><dd>0</dd><dt><span>GRIB_jDirectionIncrementInDegrees :</span></dt><dd>1.0</dd><dt><span>GRIB_jPointsAreConsecutive :</span></dt><dd>0</dd><dt><span>GRIB_jScansPositively :</span></dt><dd>0</dd><dt><span>GRIB_latitudeOfFirstGridPointInDegrees :</span></dt><dd>50.0</dd><dt><span>GRIB_latitudeOfLastGridPointInDegrees :</span></dt><dd>20.0</dd><dt><span>GRIB_longitudeOfFirstGridPointInDegrees :</span></dt><dd>-50.0</dd><dt><span>GRIB_longitudeOfLastGridPointInDegrees :</span></dt><dd>50.0</dd><dt><span>GRIB_missingValue :</span></dt><dd>9999</dd><dt><span>GRIB_name :</span></dt><dd>2 metre temperature</dd><dt><span>GRIB_shortName :</span></dt><dd>2t</dd><dt><span>GRIB_totalNumber :</span></dt><dd>0</dd><dt><span>GRIB_units :</span></dt><dd>K</dd><dt><span>long_name :</span></dt><dd>2 metre temperature</dd><dt><span>units :</span></dt><dd>K</dd><dt><span>standard_name :</span></dt><dd>unknown</dd></dl></div><div class='xr-var-data'><pre>[1145946 values with dtype=float32]</pre></div></li></ul></div></li><li class='xr-section-item'><input id='section-fe72de98-d27c-44ec-b75a-c4fc4782b2e2' class='xr-section-summary-in' type='checkbox'  checked><label for='section-fe72de98-d27c-44ec-b75a-c4fc4782b2e2' class='xr-section-summary' >Attributes: <span>(7)</span></label><div class='xr-section-inline-details'></div><div class='xr-section-details'><dl class='xr-attrs'><dt><span>GRIB_edition :</span></dt><dd>1</dd><dt><span>GRIB_centre :</span></dt><dd>ecmf</dd><dt><span>GRIB_centreDescription :</span></dt><dd>European Centre for Medium-Range Weather Forecasts</dd><dt><span>GRIB_subCentre :</span></dt><dd>0</dd><dt><span>Conventions :</span></dt><dd>CF-1.7</dd><dt><span>institution :</span></dt><dd>European Centre for Medium-Range Weather Forecasts</dd><dt><span>history :</span></dt><dd>2022-12-06T14:14 GRIB to CDM+CF via cfgrib-0.9.10.2/ecCodes-2.26.0 with {&quot;source&quot;: &quot;N/A&quot;, &quot;filter_by_keys&quot;: {}, &quot;encode_cf&quot;: [&quot;parameter&quot;, &quot;time&quot;, &quot;geography&quot;, &quot;vertical&quot;]}</dd></dl></div></li></ul></div></div>"
      ],
      "text/plain": [
       "<xarray.Dataset>\n",
       "Dimensions:     (number: 1, time: 366, step: 1, surface: 1, latitude: 31,\n",
       "                 longitude: 101)\n",
       "Coordinates:\n",
       "  * number      (number) int64 0\n",
       "  * time        (time) datetime64[ns] 2012-01-01T12:00:00 ... 2012-12-31T12:0...\n",
       "  * step        (step) timedelta64[ns] 00:00:00\n",
       "  * surface     (surface) float64 0.0\n",
       "  * latitude    (latitude) float64 50.0 49.0 48.0 47.0 ... 23.0 22.0 21.0 20.0\n",
       "  * longitude   (longitude) float64 -50.0 -49.0 -48.0 -47.0 ... 48.0 49.0 50.0\n",
       "    valid_time  (time, step) datetime64[ns] ...\n",
       "Data variables:\n",
       "    t2m         (number, time, step, surface, latitude, longitude) float32 ...\n",
       "Attributes:\n",
       "    GRIB_edition:            1\n",
       "    GRIB_centre:             ecmf\n",
       "    GRIB_centreDescription:  European Centre for Medium-Range Weather Forecasts\n",
       "    GRIB_subCentre:          0\n",
       "    Conventions:             CF-1.7\n",
       "    institution:             European Centre for Medium-Range Weather Forecasts\n",
       "    history:                 2022-12-06T14:14 GRIB to CDM+CF via cfgrib-0.9.1..."
      ]
     },
     "execution_count": 15,
     "metadata": {},
     "output_type": "execute_result"
    }
   ],
   "source": [
    "temp.to_xarray()"
   ]
  },
  {
   "cell_type": "code",
   "execution_count": 16,
   "metadata": {},
   "outputs": [
    {
     "data": {
      "text/html": [
       "<hr><pre>class=od, domain=g, expver=0001, levtype=sfc, md5_grid_section=ce1bd075c48ae7a5bf34f4e47166e942, step=0, stream=oper, time=1200, type=an\n",
       "   date=[20120101, 20120102, 20120103, 20120104, 20120105, 20120106, 20120107, 20120108, 20120109, 20120110, 20120111, 20120112, 20120113, 20120114, 20120115, 20120116, 20120117, 20120118, 20120119, 20120120, 20120121, 20120122, 20120123, 20120124, 20120125, 20120126, 20120127, 20120128, 20120129, 20120130, 20120131, 20120201, 20120202, 20120203, 20120204, 20120205, 20120206, 20120207, 20120208, 20120209, 20120210, 20120211, 20120212, 20120213, 20120214, 20120215, 20120216, 20120217, 20120218, 20120219, 20120220, 20120221, 20120222, 20120223, 20120224, 20120225, 20120226, 20120227, 20120228, 20120229, 20120301, 20120302, 20120303, 20120304, 20120305, 20120306, 20120307, 20120308, 20120309, 20120310, 20120311, 20120312, 20120313, 20120314, 20120315, 20120316, 20120317, 20120318, 20120319, 20120320, 20120321, 20120322, 20120323, 20120324, 20120325, 20120326, 20120327, 20120328, 20120329, 20120330, 20120331, 20120401, 20120402, 20120403, 20120404, 20120405, 20120406, 20120407, 20120408, 20120409, 20120410, 20120411, 20120412, 20120413, 20120414, 20120415, 20120416, 20120417, 20120418, 20120419, 20120420, 20120421, 20120422, 20120423, 20120424, 20120425, 20120426, 20120427, 20120428, 20120429, 20120430, 20120501, 20120502, 20120503, 20120504, 20120505, 20120506, 20120507, 20120508, 20120509, 20120510, 20120511, 20120512, 20120513, 20120514, 20120515, 20120516, 20120517, 20120518, 20120519, 20120520, 20120521, 20120522, 20120523, 20120524, 20120525, 20120526, 20120527, 20120528, 20120529, 20120530, 20120531, 20120601, 20120602, 20120603, 20120604, 20120605, 20120606, 20120607, 20120608, 20120609, 20120610, 20120611, 20120612, 20120613, 20120614, 20120615, 20120616, 20120617, 20120618, 20120619, 20120620, 20120621, 20120622, 20120623, 20120624, 20120625, 20120626, 20120627, 20120628, 20120629, 20120630, 20120701, 20120702, 20120703, 20120704, 20120705, 20120706, 20120707, 20120708, 20120709, 20120710, 20120711, 20120712, 20120713, 20120714, 20120715, 20120716, 20120717, 20120718, 20120719, 20120720, 20120721, 20120722, 20120723, 20120724, 20120725, 20120726, 20120727, 20120728, 20120729, 20120730, 20120731, 20120801, 20120802, 20120803, 20120804, 20120805, 20120806, 20120807, 20120808, 20120809, 20120810, 20120811, 20120812, 20120813, 20120814, 20120815, 20120816, 20120817, 20120818, 20120819, 20120820, 20120821, 20120822, 20120823, 20120824, 20120825, 20120826, 20120827, 20120828, 20120829, 20120830, 20120831, 20120901, 20120902, 20120903, 20120904, 20120905, 20120906, 20120907, 20120908, 20120909, 20120910, 20120911, 20120912, 20120913, 20120914, 20120915, 20120916, 20120917, 20120918, 20120919, 20120920, 20120921, 20120922, 20120923, 20120924, 20120925, 20120926, 20120927, 20120928, 20120929, 20120930, 20121001, 20121002, 20121003, 20121004, 20121005, 20121006, 20121007, 20121008, 20121009, 20121010, 20121011, 20121012, 20121013, 20121014, 20121015, 20121016, 20121017, 20121018, 20121019, 20121020, 20121021, 20121022, 20121023, 20121024, 20121025, 20121026, 20121027, 20121028, 20121029, 20121030, 20121031, 20121101, 20121102, 20121103, 20121104, 20121105, 20121106, 20121107, 20121108, 20121109, 20121110, 20121111, 20121112, 20121113, 20121114, 20121115, 20121116, 20121117, 20121118, 20121119, 20121120, 20121121, 20121122, 20121123, 20121124, 20121125, 20121126, 20121127, 20121128, 20121129, 20121130, 20121201, 20121202, 20121203, 20121204, 20121205, 20121206, 20121207, 20121208, 20121209, 20121210, 20121211, 20121212, 20121213, 20121214, 20121215, 20121216, 20121217, 20121218, 20121219, 20121220, 20121221, 20121222, 20121223, 20121224, 20121225, 20121226, 20121227, 20121228, 20121229, 20121230, 20121231], param=2t\n",
       "   date=20121201, param=msl\n",
       "</pre><hr>"
      ],
      "text/plain": [
       "<climetlab.utils.availability.Availability at 0x152176200>"
      ]
     },
     "execution_count": 16,
     "metadata": {},
     "output_type": "execute_result"
    }
   ],
   "source": [
    "# Note that this is wrong (not implemented yet)\n",
    "temp.availability"
   ]
  }
 ],
 "metadata": {
  "kernelspec": {
   "display_name": "Python 3.10.8 ('tensorflow-metal')",
   "language": "python",
   "name": "python3"
  },
  "language_info": {
   "codemirror_mode": {
    "name": "ipython",
    "version": 3
   },
   "file_extension": ".py",
   "mimetype": "text/x-python",
   "name": "python",
   "nbconvert_exporter": "python",
   "pygments_lexer": "ipython3",
   "version": "3.10.8"
  },
  "vscode": {
   "interpreter": {
    "hash": "4270e1ac5bef27d5e6a33f4883da48ffc137d9a63a21d2e4dad8cf8937cea50e"
   }
  }
 },
 "nbformat": 4,
 "nbformat_minor": 4
}
